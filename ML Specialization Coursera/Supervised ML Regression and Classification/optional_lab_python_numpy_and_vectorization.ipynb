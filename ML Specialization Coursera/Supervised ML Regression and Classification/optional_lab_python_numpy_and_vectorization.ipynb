{
 "cells": [
  {
   "cell_type": "markdown",
   "metadata": {},
   "source": [
    "# Optional Lab: Python, NumPy, and Vectorization"
   ]
  },
  {
   "cell_type": "code",
   "execution_count": 1,
   "metadata": {},
   "outputs": [],
   "source": [
    "import numpy as np \n",
    "import time"
   ]
  },
  {
   "cell_type": "markdown",
   "metadata": {},
   "source": [
    "## Useful References\n",
    "- NumPy Documentation: [NumPy.org](https://NumPy.org/doc/stable/)\n",
    "- A challenging feature topic: [NumPy Broadcasting](https://NumPy.org/doc/stable/user/basics.broadcasting.html)"
   ]
  },
  {
   "cell_type": "markdown",
   "metadata": {},
   "source": [
    "# Vectors"
   ]
  },
  {
   "cell_type": "markdown",
   "metadata": {},
   "source": [
    "## Vector Creation"
   ]
  },
  {
   "cell_type": "code",
   "execution_count": 2,
   "metadata": {},
   "outputs": [
    {
     "name": "stdout",
     "output_type": "stream",
     "text": [
      "np.zeros(4): a = [0. 0. 0. 0.], a shape = (4,), a data type = float64\n",
      "np.zeros(4,): a = [0. 0. 0. 0.], a shape = (4,), a data type = float64\n",
      "np.random.random_sample(4): a = [0.81552958 0.88604885 0.47340422 0.48996857], a shape = (4,), a data type = float64\n"
     ]
    }
   ],
   "source": [
    "# NumPy routines which allocate memory and fill arrays with value\n",
    "a = np.zeros(4); print(f\"np.zeros(4): a = {a}, a shape = {a.shape}, a data type = {a.dtype}\")\n",
    "a = np.zeros((4,)); print(f\"np.zeros(4,): a = {a}, a shape = {a.shape}, a data type = {a.dtype}\")\n",
    "a = np.random.random_sample(4); print(f\"np.random.random_sample(4): a = {a}, a shape = {a.shape}, a data type = {a.dtype}\")"
   ]
  },
  {
   "cell_type": "markdown",
   "metadata": {},
   "source": [
    "Some data creation routines do not take a shape tuple:"
   ]
  },
  {
   "cell_type": "code",
   "execution_count": 3,
   "metadata": {},
   "outputs": [
    {
     "name": "stdout",
     "output_type": "stream",
     "text": [
      "np.arange(4): a = [0 1 2 3], a shape = (4,), a data type = int64\n",
      "np.arange(3,7): a = [3 4 5 6], a shape = (4,), a data type = int64\n",
      "np.arange(3,8,2): a = [3 5 7], a shape = (3,), a data type = int64\n",
      "np.linspace(0, 2, 5): a = [0.  0.5 1.  1.5 2. ], a shape = (5,), a data type = float64\n",
      "np.linspace(0, 2, 5, endpoint=False): a = [0.  0.4 0.8 1.2 1.6], a shape = (5,), a data type = float64\n",
      "np.random.rand(4): a = [0.13805704 0.08489318 0.47190569 0.67605298], a shape = (4,), a data type = float64\n"
     ]
    }
   ],
   "source": [
    "a = np.arange(4); print(f\"np.arange(4): a = {a}, a shape = {a.shape}, a data type = {a.dtype}\")\n",
    "a = np.arange(3,7); print(f\"np.arange(3,7): a = {a}, a shape = {a.shape}, a data type = {a.dtype}\")\n",
    "a = np.arange(3,8,2); print(f\"np.arange(3,8,2): a = {a}, a shape = {a.shape}, a data type = {a.dtype}\")\n",
    "a = np.linspace(0, 2, 5); print(f\"np.linspace(0, 2, 5): a = {a}, a shape = {a.shape}, a data type = {a.dtype}\")\n",
    "a = np.linspace(0, 2, 5, endpoint=False); print(f\"np.linspace(0, 2, 5, endpoint=False): a = {a}, a shape = {a.shape}, a data type = {a.dtype}\")\n",
    "a = np.random.rand(4); print(f\"np.random.rand(4): a = {a}, a shape = {a.shape}, a data type = {a.dtype}\")"
   ]
  },
  {
   "cell_type": "code",
   "execution_count": 4,
   "metadata": {},
   "outputs": [
    {
     "name": "stdout",
     "output_type": "stream",
     "text": [
      "np.array([5,4,3,2]):    a = [5 4 3 2],    a shape = (4,),    a data type = int64\n",
      "np.array([5.,4,3,2])    a = [5. 4. 3. 2.],    a shape = (4,),    a data type = float64\n"
     ]
    }
   ],
   "source": [
    "# values can be specified manually as well\n",
    "a = np.array([5,4,3,2]);    print(f\"np.array([5,4,3,2]):    a = {a},    a shape = {a.shape},    a data type = {a.dtype}\")\n",
    "a = np.array([5.,4,3,2]);   print(f\"np.array([5.,4,3,2])    a = {a},    a shape = {a.shape},    a data type = {a.dtype}\")"
   ]
  },
  {
   "cell_type": "markdown",
   "metadata": {},
   "source": [
    "These have all created a 1D vector `a` and `a.shape` returns the dimensions."
   ]
  },
  {
   "cell_type": "markdown",
   "metadata": {},
   "source": [
    "## Operations on Vectors\n"
   ]
  },
  {
   "cell_type": "markdown",
   "metadata": {},
   "source": [
    "### Indexing"
   ]
  },
  {
   "cell_type": "code",
   "execution_count": 5,
   "metadata": {},
   "outputs": [
    {
     "name": "stdout",
     "output_type": "stream",
     "text": [
      "[0 1 2 3 4 5 6 7 8 9]\n",
      "a[2].shape: () a[2] = 2\n",
      "a[-1] = 9\n",
      "The error message is: index 15 is out of bounds for axis 0 with size 10\n"
     ]
    }
   ],
   "source": [
    "# Vector indexing operations on 1-D vectors\n",
    "a = np.arange(10)\n",
    "print(a)\n",
    "\n",
    "# access an element\n",
    "print(f\"a[2].shape: {a[2].shape} a[2] = {a[2]}\")\n",
    "\n",
    "# access the last element, negative indexes count from the end\n",
    "print(f\"a[-1] = {a[-1]}\")\n",
    "\n",
    "# indexes must be within the range of the vector or they will produce and error\n",
    "try:\n",
    "    c = a[15]\n",
    "except Exception as e:\n",
    "    print(\"The error message is: \" + str(e))"
   ]
  },
  {
   "cell_type": "markdown",
   "metadata": {},
   "source": [
    "### Slicing"
   ]
  },
  {
   "cell_type": "code",
   "execution_count": 6,
   "metadata": {},
   "outputs": [
    {
     "name": "stdout",
     "output_type": "stream",
     "text": [
      "a = [0 1 2 3 4 5 6 7 8 9]\n",
      "a[2:8:1] = [2 3 4 5 6 7]\n",
      "a[1:9:2] = [1 3 5 7]\n",
      "a[3:] = [3 4 5 6 7 8 9]\n",
      "a[:3] = [0 1 2]\n",
      "a[:] = [0 1 2 3 4 5 6 7 8 9]\n"
     ]
    }
   ],
   "source": [
    "a = np.arange(10)\n",
    "print(f\"a = {a}\")\n",
    "\n",
    "# access 6 consecutive elements\n",
    "c = a[2:8:1];   print(f\"a[2:8:1] = {c}\")\n",
    "\n",
    "# access 4 elements separated by two\n",
    "c = a[1:9:2];   print(f\"a[1:9:2] = {c}\")\n",
    "\n",
    "# access all elements index 3 and above\n",
    "c = a[3:];      print(f\"a[3:] = {c}\")\n",
    "\n",
    "# access all elements below index 3\n",
    "c = a[:3];      print(f\"a[:3] = {c}\")\n",
    "\n",
    "# access all elements\n",
    "c = a[:];       print(f\"a[:] = {c}\")"
   ]
  },
  {
   "cell_type": "markdown",
   "metadata": {},
   "source": [
    "### Single vector operations"
   ]
  },
  {
   "cell_type": "code",
   "execution_count": 7,
   "metadata": {},
   "outputs": [
    {
     "name": "stdout",
     "output_type": "stream",
     "text": [
      "a: [1 2 3 4 5]\n",
      "b = -a: [-1 -2 -3 -4 -5]\n",
      "b = np.sum(a):  15\n",
      "b = np.mean(a): 3.0\n",
      "b = a**2:   [ 1  4  9 16 25]\n"
     ]
    }
   ],
   "source": [
    "a = np.array([1,2,3,4,5])\n",
    "print(f\"a: {a}\")\n",
    "b = -a\n",
    "print(f\"b = -a: {b}\")\n",
    "b = np.sum(a)\n",
    "print(f\"b = np.sum(a):  {b}\")\n",
    "b = np.mean(a)\n",
    "print(f\"b = np.mean(a): {b}\")\n",
    "b = a**2\n",
    "print(f\"b = a**2:   {b}\")"
   ]
  },
  {
   "cell_type": "markdown",
   "metadata": {},
   "source": [
    "### Vector Vector element-wise operations"
   ]
  },
  {
   "cell_type": "code",
   "execution_count": 8,
   "metadata": {},
   "outputs": [
    {
     "name": "stdout",
     "output_type": "stream",
     "text": [
      "a + b = [ 0  0  6  8 10]\n",
      "c = 2 * a : [ 2  4  6  8 10]\n"
     ]
    }
   ],
   "source": [
    "a = np.array([1, 2, 3, 4, 5])\n",
    "b = np.array([-1, -2, 3, 4, 5])\n",
    "print(f\"a + b = {a + b}\")\n",
    "\n",
    "# scalar vector operations\n",
    "c = 2 * a\n",
    "print(f\"c = 2 * a : {c}\")"
   ]
  },
  {
   "cell_type": "markdown",
   "metadata": {},
   "source": [
    "### Vector Vector dot product\n",
    "\n",
    "$$ x = \\sum_{i=0}^{n-1}{a_i b_i}$$"
   ]
  },
  {
   "cell_type": "code",
   "execution_count": 9,
   "metadata": {},
   "outputs": [],
   "source": [
    "def dot_product(a, b):\n",
    "    x = 0\n",
    "    for i in range(a.shape[0]):\n",
    "        x += a[i] * b[i]\n",
    "    return x"
   ]
  },
  {
   "cell_type": "code",
   "execution_count": 10,
   "metadata": {},
   "outputs": [
    {
     "name": "stdout",
     "output_type": "stream",
     "text": [
      "dot_product(a, b) = 47\n"
     ]
    }
   ],
   "source": [
    "# test 1-D\n",
    "a = np.array([1, 2, 3, 4, 5])\n",
    "b = np.array([-1, -1, 3, 4, 5])\n",
    "print(f\"dot_product(a, b) = {dot_product(a, b)}\")"
   ]
  },
  {
   "cell_type": "code",
   "execution_count": 11,
   "metadata": {},
   "outputs": [
    {
     "name": "stdout",
     "output_type": "stream",
     "text": [
      "np.dot(a, b) = 47, np.dot(a, b).shape = ()\n",
      "np.dot(b, a) = 47, np.dot(b, a).shape = ()\n"
     ]
    }
   ],
   "source": [
    "# using np.dot(a, b)\n",
    "a = np.array([1, 2, 3, 4, 5])\n",
    "b = np.array([-1, -1, 3, 4, 5])\n",
    "c = np.dot(a, b)\n",
    "print(f\"np.dot(a, b) = {c}, np.dot(a, b).shape = {c.shape}\")\n",
    "c = np.dot(b, a)\n",
    "print(f\"np.dot(b, a) = {c}, np.dot(b, a).shape = {c.shape}\")"
   ]
  },
  {
   "cell_type": "markdown",
   "metadata": {},
   "source": [
    "### The Need for Speed: vector vs for loop\n",
    "We utilized the NumPy library because it improves speed memory efficiency. Let's demonstrate:"
   ]
  },
  {
   "cell_type": "code",
   "execution_count": 12,
   "metadata": {},
   "outputs": [
    {
     "name": "stdout",
     "output_type": "stream",
     "text": [
      "np.dot(a, b) = 2501072.5817\n",
      "Vectorized version duration: 5.4691 ms\n",
      "dot_product(a, b) = 2501072.5817\n",
      "For loop version duration: 4014.0607 ms\n"
     ]
    }
   ],
   "source": [
    "np.random.seed(1)\n",
    "a = np.random.rand(10000000) # very large arrays\n",
    "b = np.random.rand(10000000)\n",
    "\n",
    "tic = time.time() # capture start time\n",
    "c = np.dot(a,b)\n",
    "toc = time.time() # capture end time\n",
    "\n",
    "print(f\"np.dot(a, b) = {c:.4f}\")\n",
    "print(f\"Vectorized version duration: {1000*(toc-tic):.4f} ms\")\n",
    "\n",
    "tic = time.time() # capture start time\n",
    "c = dot_product(a,b)\n",
    "toc = time.time() # capture end time\n",
    "\n",
    "print(f\"dot_product(a, b) = {c:.4f}\")\n",
    "print(f\"For loop version duration: {1000*(toc-tic):.4f} ms\")\n",
    "\n",
    "del(a); del(b)  # remove these big arrays from memeory"
   ]
  },
  {
   "cell_type": "markdown",
   "metadata": {},
   "source": [
    "So, vectorization provides a large speed up in this example. This is because NumPy makes better use of available data parallelism in the underlying hardware. GPU's and modern CPU's implement Single Instruction, Multiple Data (SIMD) pipelines allowing multiple operations to be issued in parallel. This is critical in Machine Learning where the data sets are often very large."
   ]
  },
  {
   "cell_type": "code",
   "execution_count": 13,
   "metadata": {},
   "outputs": [
    {
     "name": "stdout",
     "output_type": "stream",
     "text": [
      "X[1] has shape (1,)\n",
      "w has shape (1,)\n",
      "c has shape ()\n",
      "10\n"
     ]
    }
   ],
   "source": [
    "# show common Course 1 example\n",
    "X = np.array([[1],[2],[3],[4]])\n",
    "w = np.array([5])\n",
    "c = np.dot(X[1], w)\n",
    "\n",
    "print(f\"X[1] has shape {X[1].shape}\")\n",
    "print(f\"w has shape {w.shape}\")\n",
    "print(f\"c has shape {c.shape}\")\n",
    "print(c)"
   ]
  },
  {
   "cell_type": "markdown",
   "metadata": {},
   "source": [
    "# Matrices"
   ]
  },
  {
   "cell_type": "markdown",
   "metadata": {},
   "source": [
    "## Matrix Creation"
   ]
  },
  {
   "cell_type": "code",
   "execution_count": 14,
   "metadata": {},
   "outputs": [
    {
     "name": "stdout",
     "output_type": "stream",
     "text": [
      "a shape = (1, 5), a= [[0. 0. 0. 0. 0.]]\n",
      "a shape = (2, 2), a = [[0. 0.]\n",
      " [0. 0.]]\n",
      "a shape = (2, 1), a = [[0.44236513]\n",
      " [0.04997798]]\n"
     ]
    }
   ],
   "source": [
    "a = np.zeros((1, 5))\n",
    "print(f\"a shape = {a.shape}, a= {a}\")\n",
    "\n",
    "a = np.zeros((2, 2))\n",
    "print(f\"a shape = {a.shape}, a = {a}\")\n",
    "\n",
    "a = np.random.random_sample((2, 1))\n",
    "print(f\"a shape = {a.shape}, a = {a}\")"
   ]
  },
  {
   "cell_type": "code",
   "execution_count": 15,
   "metadata": {},
   "outputs": [
    {
     "name": "stdout",
     "output_type": "stream",
     "text": [
      "a shape = (3, 1), np.array: a = [[5]\n",
      " [4]\n",
      " [3]]\n",
      "a shape = (3, 2), np.array: a = [[1 2]\n",
      " [3 4]\n",
      " [5 6]]\n"
     ]
    }
   ],
   "source": [
    "# Manually specify data\n",
    "a = np.array([[5], [4], [3]]);  print(f\"a shape = {a.shape}, np.array: a = {a}\")\n",
    "a = np.array([[1, 2],\n",
    "              [3, 4],\n",
    "              [5, 6]])\n",
    "print(f\"a shape = {a.shape}, np.array: a = {a}\")"
   ]
  },
  {
   "cell_type": "markdown",
   "metadata": {},
   "source": [
    "## Operations on Matrices"
   ]
  },
  {
   "cell_type": "markdown",
   "metadata": {},
   "source": [
    "### Indexing"
   ]
  },
  {
   "cell_type": "code",
   "execution_count": 16,
   "metadata": {},
   "outputs": [
    {
     "name": "stdout",
     "output_type": "stream",
     "text": [
      "a.shape: (3, 2), \n",
      "a= [[0 1]\n",
      " [2 3]\n",
      " [4 5]]\n",
      "\n",
      "a[2,0].shape: (), a[2,0] = 4, type(a[2,0]) = <class 'numpy.int64'> Accessing an element returns a scalar\n",
      "\n",
      "a[2].shape: (2,), a[2] = [4 5], type(a[2]) = <class 'numpy.ndarray'>\n"
     ]
    }
   ],
   "source": [
    "a = np.arange(6).reshape(-1, 2)     # reshape is a convenient way to create matrices\n",
    "print(f\"a.shape: {a.shape}, \\na= {a}\")\n",
    "\n",
    "# access an element\n",
    "print(f\"\\na[2,0].shape: {a[2, 0].shape}, a[2,0] = {a[2, 0]}, type(a[2,0]) = {type(a[2,0])} Accessing an element returns a scalar\\n\")\n",
    "\n",
    "# access a row\n",
    "print(f\"a[2].shape: {a[2].shape}, a[2] = {a[2]}, type(a[2]) = {type(a[2])}\")\n",
    "\n",
    "# print(a[2][0])\n",
    "# print(type(a[2][0]))"
   ]
  },
  {
   "cell_type": "markdown",
   "metadata": {},
   "source": [
    "**Reshape**  \n",
    "The previous example used [reshape](https://numpy.org/doc/stable/reference/generated/numpy.reshape.html) to shape the array.  \n",
    "`a = np.arange(6).reshape(-1, 2) `   \n",
    "This line of code first created a *1-D Vector* of six elements. It then reshaped that vector into a *2-D* array using the reshape command. This could have been written:  \n",
    "`a = np.arange(6).reshape(3, 2) `  \n",
    "To arrive at the same 3 row, 2 column array.\n",
    "The -1 argument tells the routine to compute the number of rows given the size of the array and the number of columns."
   ]
  },
  {
   "cell_type": "markdown",
   "metadata": {},
   "source": [
    "### Slicing"
   ]
  },
  {
   "cell_type": "code",
   "execution_count": 17,
   "metadata": {},
   "outputs": [
    {
     "name": "stdout",
     "output_type": "stream",
     "text": [
      "a = \n",
      "[[ 0  1  2  3  4  5  6  7  8  9]\n",
      " [10 11 12 13 14 15 16 17 18 19]]\n",
      "a[0, 2:7:1] = [2 3 4 5 6], a[0, 2:7:1].shape = (5,), a 1-D array\n",
      "a[0][2:7:1] = [2 3 4 5 6], a[0][2:7:1].shape = (5,), a 1-D array\n",
      "\n",
      "a[:, 2:7:1] =\n",
      "[[ 2  3  4  5  6]\n",
      " [12 13 14 15 16]]\n",
      " a[:, 2:7:1].shape = (2, 5) a 2-D array\n",
      "\n",
      "a[:,:] = \n",
      "[[ 0  1  2  3  4  5  6  7  8  9]\n",
      " [10 11 12 13 14 15 16 17 18 19]]\n",
      "a[:,:].shape = (2, 10)\n"
     ]
    }
   ],
   "source": [
    "# vector 2-D slicing operations\n",
    "a = np.arange(20).reshape(-1, 10)\n",
    "print(f\"a = \\n{a}\")\n",
    "\n",
    "# access 5 consecutive elements\n",
    "print(f\"a[0, 2:7:1] = {a[0, 2:7:1]}, a[0, 2:7:1].shape = {a[0, 2:7:1].shape}, a 1-D array\")\n",
    "print(f\"a[0][2:7:1] = {a[0][2:7:1]}, a[0][2:7:1].shape = {a[0][2:7:1].shape}, a 1-D array\")\n",
    "\n",
    "# access 5 consecutive elements in two rows\n",
    "print(f\"\\na[:, 2:7:1] =\\n{a[:, 2:7:1]}\\n a[:, 2:7:1].shape = {a[:, 2:7:1].shape} a 2-D array\")\n",
    "\n",
    "# access all elements\n",
    "print(f\"\\na[:,:] = \\n{a[:,:]}\\na[:,:].shape = {a[:,:].shape}\")\n",
    "# print(a[:][:])"
   ]
  }
 ],
 "metadata": {
  "kernelspec": {
   "display_name": "Python 3",
   "language": "python",
   "name": "python3"
  },
  "language_info": {
   "codemirror_mode": {
    "name": "ipython",
    "version": 3
   },
   "file_extension": ".py",
   "mimetype": "text/x-python",
   "name": "python",
   "nbconvert_exporter": "python",
   "pygments_lexer": "ipython3",
   "version": "3.13.0"
  }
 },
 "nbformat": 4,
 "nbformat_minor": 2
}
